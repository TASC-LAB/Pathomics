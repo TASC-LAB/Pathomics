{
 "cells": [
  {
   "cell_type": "code",
   "execution_count": 8,
   "metadata": {},
   "outputs": [],
   "source": [
    "import matplotlib.pyplot as plt\n",
    "from scipy import stats\n",
    "import numpy as np\n",
    "import random\n",
    "import PIL.ImageDraw as ImageDraw\n",
    "import PIL.Image as Image\n",
    "import os.path\n",
    "import math\n",
    "import os\n",
    "import cv2\n",
    "import glob\n",
    "from skimage import exposure\n",
    "from skimage.exposure import match_histograms"
   ]
  },
  {
   "cell_type": "code",
   "execution_count": 15,
   "metadata": {},
   "outputs": [],
   "source": [
    "def normalization(main_image, target):\n",
    "    # reading main image\n",
    "    img1 = target\n",
    "  \n",
    "    # reading reference image\n",
    "    img2 = main_image\n",
    "  \n",
    "    image = img1\n",
    "    reference = img2\n",
    "  \n",
    "    matched = match_histograms(image, reference,multichannel=False)\n",
    "  \n",
    "  \n",
    "    fig, (ax1, ax2, ax3) = plt.subplots(nrows=1, ncols=3,figsize=(8, 3),sharex=True, sharey=True)\n",
    "  \n",
    "    for aa in (ax1, ax2, ax3):\n",
    "        aa.set_axis_off()\n",
    "  \n",
    "    ax1.imshow(image)\n",
    "    ax1.set_title('Source')\n",
    "    ax2.imshow(reference)\n",
    "    ax2.set_title('Reference')\n",
    "    ax3.imshow(matched)\n",
    "    ax3.set_title('Matched')\n",
    "  \n",
    "    plt.tight_layout()\n",
    "    plt.show()\n",
    "  \n",
    "    fig, axes = plt.subplots(nrows=3, ncols=3, figsize=(8, 8))\n",
    "  \n",
    "    for i, img in enumerate((image, reference, matched)):\n",
    "        for c, c_color in enumerate(('red', 'green', 'blue')):\n",
    "            img_hist, bins = exposure.histogram(img[..., c], \n",
    "                                            source_range='dtype')\n",
    "            axes[c, i].plot(bins, img_hist / img_hist.max())\n",
    "            img_cdf, bins = exposure.cumulative_distribution(img[..., c])\n",
    "            axes[c, i].plot(bins, img_cdf)\n",
    "            axes[c, 0].set_ylabel(c_color)\n",
    "  \n",
    "    axes[0, 0].set_title('Source')\n",
    "    axes[0, 1].set_title('Reference')\n",
    "    axes[0, 2].set_title('Matched')\n",
    "  \n",
    "    plt.tight_layout()\n",
    "    plt.show()\n",
    "    \n",
    "    return matched"
   ]
  },
  {
   "cell_type": "code",
   "execution_count": 16,
   "metadata": {},
   "outputs": [
    {
     "ename": "AttributeError",
     "evalue": "'NoneType' object has no attribute 'ndim'",
     "output_type": "error",
     "traceback": [
      "\u001b[1;31m---------------------------------------------------------------------------\u001b[0m",
      "\u001b[1;31mAttributeError\u001b[0m                            Traceback (most recent call last)",
      "\u001b[1;32m<ipython-input-16-38ecfeea3f09>\u001b[0m in \u001b[0;36m<module>\u001b[1;34m\u001b[0m\n\u001b[0;32m      4\u001b[0m \u001b[1;32mfor\u001b[0m \u001b[0mmyFile\u001b[0m \u001b[1;32min\u001b[0m \u001b[0mfiles\u001b[0m\u001b[1;33m:\u001b[0m\u001b[1;33m\u001b[0m\u001b[1;33m\u001b[0m\u001b[0m\n\u001b[0;32m      5\u001b[0m     \u001b[0mimage\u001b[0m \u001b[1;33m=\u001b[0m \u001b[0mcv2\u001b[0m\u001b[1;33m.\u001b[0m\u001b[0mimread\u001b[0m \u001b[1;33m(\u001b[0m\u001b[0mmyFile\u001b[0m\u001b[1;33m)\u001b[0m\u001b[1;33m\u001b[0m\u001b[1;33m\u001b[0m\u001b[0m\n\u001b[1;32m----> 6\u001b[1;33m     \u001b[0mnorm_img\u001b[0m \u001b[1;33m=\u001b[0m \u001b[0mnormalization\u001b[0m\u001b[1;33m(\u001b[0m\u001b[0mimage\u001b[0m\u001b[1;33m,\u001b[0m\u001b[0mtarget_image\u001b[0m\u001b[1;33m)\u001b[0m\u001b[1;33m\u001b[0m\u001b[1;33m\u001b[0m\u001b[0m\n\u001b[0m\u001b[0;32m      7\u001b[0m     \u001b[0mfig\u001b[0m\u001b[1;33m,\u001b[0m \u001b[0max\u001b[0m \u001b[1;33m=\u001b[0m \u001b[0mplt\u001b[0m\u001b[1;33m.\u001b[0m\u001b[0msubplots\u001b[0m\u001b[1;33m(\u001b[0m\u001b[0mfigsize\u001b[0m\u001b[1;33m=\u001b[0m\u001b[1;33m(\u001b[0m\u001b[1;36m8\u001b[0m\u001b[1;33m,\u001b[0m\u001b[1;36m3\u001b[0m\u001b[1;33m)\u001b[0m\u001b[1;33m)\u001b[0m\u001b[1;33m\u001b[0m\u001b[1;33m\u001b[0m\u001b[0m\n\u001b[0;32m      8\u001b[0m     \u001b[0max\u001b[0m\u001b[1;33m.\u001b[0m\u001b[0mimshow\u001b[0m\u001b[1;33m(\u001b[0m\u001b[0mnorm_img\u001b[0m\u001b[1;33m)\u001b[0m\u001b[1;33m\u001b[0m\u001b[1;33m\u001b[0m\u001b[0m\n",
      "\u001b[1;32m<ipython-input-15-734c4064269e>\u001b[0m in \u001b[0;36mnormalization\u001b[1;34m(main_image, target)\u001b[0m\n\u001b[0;32m      9\u001b[0m     \u001b[0mreference\u001b[0m \u001b[1;33m=\u001b[0m \u001b[0mimg2\u001b[0m\u001b[1;33m\u001b[0m\u001b[1;33m\u001b[0m\u001b[0m\n\u001b[0;32m     10\u001b[0m \u001b[1;33m\u001b[0m\u001b[0m\n\u001b[1;32m---> 11\u001b[1;33m     \u001b[0mmatched\u001b[0m \u001b[1;33m=\u001b[0m \u001b[0mmatch_histograms\u001b[0m\u001b[1;33m(\u001b[0m\u001b[0mimage\u001b[0m\u001b[1;33m,\u001b[0m \u001b[0mreference\u001b[0m\u001b[1;33m,\u001b[0m\u001b[0mmultichannel\u001b[0m\u001b[1;33m=\u001b[0m\u001b[1;32mFalse\u001b[0m\u001b[1;33m)\u001b[0m\u001b[1;33m\u001b[0m\u001b[1;33m\u001b[0m\u001b[0m\n\u001b[0m\u001b[0;32m     12\u001b[0m \u001b[1;33m\u001b[0m\u001b[0m\n\u001b[0;32m     13\u001b[0m \u001b[1;33m\u001b[0m\u001b[0m\n",
      "\u001b[1;32m~\\Anaconda3\\lib\\site-packages\\skimage\\exposure\\histogram_matching.py\u001b[0m in \u001b[0;36mmatch_histograms\u001b[1;34m(image, reference, multichannel)\u001b[0m\n\u001b[0;32m     51\u001b[0m \u001b[1;33m\u001b[0m\u001b[0m\n\u001b[0;32m     52\u001b[0m     \"\"\"\n\u001b[1;32m---> 53\u001b[1;33m     \u001b[1;32mif\u001b[0m \u001b[0mimage\u001b[0m\u001b[1;33m.\u001b[0m\u001b[0mndim\u001b[0m \u001b[1;33m!=\u001b[0m \u001b[0mreference\u001b[0m\u001b[1;33m.\u001b[0m\u001b[0mndim\u001b[0m\u001b[1;33m:\u001b[0m\u001b[1;33m\u001b[0m\u001b[1;33m\u001b[0m\u001b[0m\n\u001b[0m\u001b[0;32m     54\u001b[0m         raise ValueError('Image and reference must have the same number '\n\u001b[0;32m     55\u001b[0m                          'of channels.')\n",
      "\u001b[1;31mAttributeError\u001b[0m: 'NoneType' object has no attribute 'ndim'"
     ]
    }
   ],
   "source": [
    "folder = (r'C:\\Users\\user\\Documents\\itamar\\GUI')\n",
    "target_image = cv2.imread(\"target.jpg\") \n",
    "files = glob.glob (r'C:\\Users\\user\\Documents\\itamar\\GUI\\*.PNG')\n",
    "for myFile in files:\n",
    "    image = cv2.imread (myFile)\n",
    "    norm_img = normalization(image,target_image)\n",
    "    fig, ax = plt.subplots(figsize=(8,3))\n",
    "    ax.imshow(norm_img)\n",
    "    plt.tight_layout()\n",
    "    plt.show()\n",
    "    plt.savefig(os.path.join(folder,'Confusion matrix.png'))"
   ]
  },
  {
   "cell_type": "code",
   "execution_count": null,
   "metadata": {},
   "outputs": [],
   "source": []
  }
 ],
 "metadata": {
  "kernelspec": {
   "display_name": "Python 3",
   "language": "python",
   "name": "python3"
  },
  "language_info": {
   "codemirror_mode": {
    "name": "ipython",
    "version": 3
   },
   "file_extension": ".py",
   "mimetype": "text/x-python",
   "name": "python",
   "nbconvert_exporter": "python",
   "pygments_lexer": "ipython3",
   "version": "3.7.4"
  }
 },
 "nbformat": 4,
 "nbformat_minor": 4
}
